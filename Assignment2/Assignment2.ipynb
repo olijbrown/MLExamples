{
 "cells": [
  {
   "cell_type": "markdown",
   "id": "7c1bdec4",
   "metadata": {},
   "source": [
    "# CS3920 - Machine Learning\n",
    "\n",
    "Assignment 2"
   ]
  },
  {
   "cell_type": "markdown",
   "id": "738be7fc",
   "metadata": {},
   "source": [
    "## Task 1\n",
    "### Load the data set into Python. Merge the USPS training and test sets into one dataset."
   ]
  },
  {
   "cell_type": "code",
   "execution_count": 1,
   "id": "4548448c",
   "metadata": {},
   "outputs": [
    {
     "name": "stdout",
     "output_type": "stream",
     "text": [
      "X size (wine): (178, 13)\n",
      "y size (wine): (178,)\n",
      "X size (zip): (9298, 256)\n",
      "y size (zip): (9298,)\n"
     ]
    }
   ],
   "source": [
    "import numpy as np\n",
    "from sklearn.datasets import load_wine\n",
    "\n",
    "wine = load_wine()\n",
    "X_wine = wine[\"data\"]\n",
    "y_wine = wine[\"target\"]\n",
    "print(\"X size (wine):\", X_wine.shape)\n",
    "print(\"y size (wine):\", y_wine.shape)\n",
    "\n",
    "zip_train = np.genfromtxt(\"zip.train\", delimiter=' ')\n",
    "zip_test = np.genfromtxt(\"zip.test\", delimiter=' ')\n",
    "X_zip = np.concatenate((zip_train[:, 1:], zip_test[:, 1:]))\n",
    "y_zip = np.concatenate((zip_train[:, 0], zip_test[:, 0]))\n",
    "print(\"X size (zip):\", X_zip.shape)\n",
    "print(\"y size (zip):\", y_zip.shape)"
   ]
  },
  {
   "cell_type": "markdown",
   "id": "4c5551b8",
   "metadata": {},
   "source": [
    "## Task 2\n",
    "### Divide the datasets into a training set and a test set."
   ]
  },
  {
   "cell_type": "code",
   "execution_count": 2,
   "id": "63e3e19a",
   "metadata": {},
   "outputs": [
    {
     "name": "stdout",
     "output_type": "stream",
     "text": [
      "X_train size (wine): (142, 13)\n",
      "y_train size (wine): (142,)\n",
      "X_test size (wine): (36, 13)\n",
      "y_test size (wine): (36,)\n",
      "X_train size (zip): (7438, 256)\n",
      "y_train size (zip): (7438,)\n",
      "X_test size (zip): (1860, 256)\n",
      "y_test size (zip): (1860,)\n"
     ]
    }
   ],
   "source": [
    "from sklearn.model_selection import train_test_split\n",
    "\n",
    "X_wine_train, X_wine_test, y_wine_train, y_wine_test = \\\n",
    "        train_test_split(X_wine, y_wine, test_size=0.2, random_state=2311)\n",
    "print(\"X_train size (wine):\", X_wine_train.shape)\n",
    "print(\"y_train size (wine):\", y_wine_train.shape)\n",
    "print(\"X_test size (wine):\", X_wine_test.shape)\n",
    "print(\"y_test size (wine):\", y_wine_test.shape)\n",
    "\n",
    "X_zip_train, X_zip_test, y_zip_train, y_zip_test = \\\n",
    "        train_test_split(X_zip, y_zip, test_size=0.2, random_state=2311)\n",
    "print(\"X_train size (zip):\", X_zip_train.shape)\n",
    "print(\"y_train size (zip):\", y_zip_train.shape)\n",
    "print(\"X_test size (zip):\", X_zip_test.shape)\n",
    "print(\"y_test size (zip):\", y_zip_test.shape)"
   ]
  },
  {
   "cell_type": "markdown",
   "id": "dcafe085",
   "metadata": {},
   "source": [
    "## Task 3\n",
    "### Using cross-validation and the training set only, estimate the generalization accuracy of the SVM with the default values of the parameters. You may use the function cross_val_score."
   ]
  },
  {
   "cell_type": "code",
   "execution_count": 3,
   "id": "4ded7d0f",
   "metadata": {},
   "outputs": [
    {
     "name": "stdout",
     "output_type": "stream",
     "text": [
      "Accuracy (wine): 68.32512315270935 %\n",
      "Accuracy (zip): 97.12291472330087 %\n"
     ]
    }
   ],
   "source": [
    "from sklearn.model_selection import cross_val_score\n",
    "from sklearn.svm import SVC\n",
    "\n",
    "svm = SVC()\n",
    "\n",
    "wine_cvs = cross_val_score(svm, X_wine_train, y_wine_train)\n",
    "wine_accuracy = np.mean(wine_cvs)\n",
    "print(\"Accuracy (wine):\", wine_accuracy * 100, \"%\")\n",
    "\n",
    "zip_cvs = cross_val_score(svm, X_zip_train, y_zip_train)\n",
    "zip_accuracy = np.mean(zip_cvs)\n",
    "print(\"Accuracy (zip):\", zip_accuracy * 100, \"%\")"
   ]
  },
  {
   "cell_type": "markdown",
   "id": "fe7df62f",
   "metadata": {},
   "source": [
    "## Task 4\n",
    "### Find the test error rate of the SVM with the default values of parameters, compare it with the estimate obtained in the previous task, and write down your observations."
   ]
  },
  {
   "cell_type": "code",
   "execution_count": 4,
   "id": "a37053b0",
   "metadata": {},
   "outputs": [
    {
     "name": "stdout",
     "output_type": "stream",
     "text": [
      "Error Rate (wine): 16.666666666666664 %\n",
      "Error Rate (zip): 2.5806451612903225 %\n"
     ]
    }
   ],
   "source": [
    "svm.fit(X_wine_train, y_wine_train)\n",
    "y_wine_prediction = svm.predict(X_wine_test)\n",
    "wine_incorrect = np.sum(y_wine_prediction != y_wine_test)\n",
    "wine_error = wine_incorrect / len(y_wine_test)\n",
    "print(\"Error Rate (wine):\", wine_error * 100, \"%\")\n",
    "\n",
    "svm.fit(X_zip_train, y_zip_train)\n",
    "y_zip_prediction = svm.predict(X_zip_test)\n",
    "zip_incorrect = np.sum(y_zip_prediction != y_zip_test)\n",
    "zip_error = zip_incorrect / len(y_zip_test)\n",
    "print(\"Error Rate (zip):\", zip_error * 100, \"%\")"
   ]
  },
  {
   "cell_type": "markdown",
   "id": "0f021e25",
   "metadata": {},
   "source": [
    "#### Observations:\n",
    "- Wine not as close to the predicted cross validation score.\n",
    "- Zip very close to the predicted cross validation score."
   ]
  },
  {
   "cell_type": "markdown",
   "id": "853c8cdb",
   "metadata": {},
   "source": [
    "## Task 5 & 6\n",
    "### Create a pipeline for SVM involving data normalization and SVC, and use grid search and cross-validation to tune parameters C and gamma for the pipeline, avoiding data snooping and data leakage.\n",
    "### Fit the GridSearchCV object of task 5 to the training set and use it to predict the test labels. Write the resulting test error rate in your Jupyter notebook."
   ]
  },
  {
   "cell_type": "code",
   "execution_count": 5,
   "id": "d73895d2",
   "metadata": {},
   "outputs": [
    {
     "name": "stdout",
     "output_type": "stream",
     "text": [
      "Best cv accuracy (wine): 99.28571428571429 %\n",
      "Test set score (wine): 94.44444444444444 %\n",
      "Best parameters (wine): {'scalar': StandardScaler(), 'svc__C': 10, 'svc__gamma': 0.01}\n",
      "Best cv accuracy (zip): 97.13636462242661 %\n",
      "Test set score (zip): 97.41935483870968 %\n",
      "Best parameters (zip): {'scalar': MinMaxScaler()}\n"
     ]
    }
   ],
   "source": [
    "from sklearn.pipeline import Pipeline\n",
    "from sklearn.model_selection import GridSearchCV\n",
    "from sklearn.preprocessing import StandardScaler, MinMaxScaler, RobustScaler, Normalizer\n",
    "\n",
    "wine_pipeline = Pipeline([\n",
    "    ('scalar', StandardScaler()),\n",
    "    ('svc', svm)\n",
    "])\n",
    "\n",
    "wine_param_grid = {\n",
    "    'scalar': [StandardScaler(), MinMaxScaler(), RobustScaler(), Normalizer()],\n",
    "    'svc__C': [0.1, 1, 10],\n",
    "    'svc__gamma': [0.01, 0.1, 1]\n",
    "}\n",
    "\n",
    "wine_grid = GridSearchCV(wine_pipeline, param_grid=wine_param_grid, cv=5)\n",
    "wine_grid.fit(X_wine_train, y_wine_train)\n",
    "print(\"Best cv accuracy (wine):\", wine_grid.best_score_ * 100, '%')\n",
    "print(\"Test set score (wine):\", wine_grid.score(X_wine_test, y_wine_test) * 100, '%')\n",
    "print(\"Best parameters (wine):\", wine_grid.best_params_)\n",
    "\n",
    "zip_pipeline = Pipeline([\n",
    "    ('scalar', StandardScaler()),\n",
    "    ('svc', svm)\n",
    "])\n",
    "\n",
    "zip_param_grid = {\n",
    "    'scalar': [StandardScaler(), MinMaxScaler(), RobustScaler(), Normalizer()]\n",
    "}\n",
    "\n",
    "zip_grid = GridSearchCV(zip_pipeline, param_grid=zip_param_grid, cv=5)\n",
    "zip_grid.fit(X_zip_train, y_zip_train)\n",
    "print(\"Best cv accuracy (zip):\", zip_grid.best_score_ * 100, '%')\n",
    "print(\"Test set score (zip):\", zip_grid.score(X_zip_test, y_zip_test) * 100, '%')\n",
    "print(\"Best parameters (zip):\", zip_grid.best_params_)"
   ]
  },
  {
   "cell_type": "markdown",
   "id": "b04610ef",
   "metadata": {},
   "source": [
    "#### Observations (Task 6):\n",
    "- Error Rate (wine): 5.56% (2 d.p.)\n",
    "- Error Rate (zip): 2.95% (2 d.p.)"
   ]
  },
  {
   "cell_type": "markdown",
   "id": "dfcb39e1",
   "metadata": {},
   "source": [
    "## Task 7\n",
    "### Implement a cross-conformal predictor."
   ]
  },
  {
   "cell_type": "code",
   "execution_count": 6,
   "id": "71174c2e",
   "metadata": {},
   "outputs": [],
   "source": [
    "from sklearn.model_selection import KFold\n",
    "from sklearn.metrics import accuracy_score\n",
    "\n",
    "def cross_conformal_predictor(X, y, pipeline, param_grid):\n",
    "    kfold = KFold(shuffle=True, random_state=2311)\n",
    "    p_values = []\n",
    "    \n",
    "    for rest_index, fold_index in kfold.split(X):\n",
    "        X_rest, X_fold = X[rest_index], X[fold_index]\n",
    "        y_rest, y_fold = y[rest_index], y[fold_index]\n",
    "        \n",
    "        grid = GridSearchCV(pipeline, param_grid=param_grid, cv=5)\n",
    "        grid.fit(X_rest, y_rest)\n",
    "        \n",
    "        conformity_scores = grid.decision_function(X_fold)\n",
    "        \n",
    "        p_value = np.sum(conformity_scores <= conformity_scores[-1]) / len(conformity_scores)\n",
    "        p_values.append(p_value)\n",
    "    \n",
    "    return np.array(p_values)"
   ]
  },
  {
   "cell_type": "markdown",
   "id": "a729b6bd",
   "metadata": {},
   "source": [
    "## Task 8\n",
    "### Experiment with a neural network."
   ]
  },
  {
   "cell_type": "code",
   "execution_count": 7,
   "id": "388c51cc",
   "metadata": {},
   "outputs": [
    {
     "name": "stdout",
     "output_type": "stream",
     "text": [
      "Accuracy (wine): 80.76354679802955 %\n",
      "Error Rate (wine): 5.555555555555555 %\n",
      "Best cv accuracy (wine): 97.9064039408867 %\n",
      "Test set score (wine): 100.0 %\n",
      "Best parameters (wine): {'scalar': MinMaxScaler()}\n",
      "Accuracy (zip): 96.26241042439494 %\n",
      "Error Rate (zip): 2.849462365591398 %\n",
      "Best cv accuracy (zip): 96.34312789697088 %\n",
      "Test set score (zip): 96.98924731182795 %\n",
      "Best parameters (zip): {'scalar': MinMaxScaler()}\n"
     ]
    }
   ],
   "source": [
    "from sklearn.neural_network import MLPClassifier\n",
    "\n",
    "# Task 3 (wine)\n",
    "wine_mlp = MLPClassifier(random_state=2311, max_iter=10000)\n",
    "wine_accuracy = cross_val_score(wine_mlp, X_wine_train, y_wine_train)\n",
    "print(\"Accuracy (wine):\", wine_accuracy.mean() * 100, \"%\")\n",
    "\n",
    "# Task 4 (wine)\n",
    "wine_mlp.fit(X_wine_train, y_wine_train)\n",
    "y_wine_prediction = wine_mlp.predict(X_wine_test)\n",
    "wine_incorrect = np.sum(y_wine_prediction != y_wine_test)\n",
    "wine_error = wine_incorrect / len(y_wine_test)\n",
    "print(\"Error Rate (wine):\", wine_error * 100, \"%\")\n",
    "\n",
    "# Task 5 (wine)\n",
    "wine_pipeline = Pipeline([\n",
    "    ('scalar', StandardScaler()),\n",
    "    ('mlp', wine_mlp)\n",
    "])\n",
    "\n",
    "# Task 6 (wine)\n",
    "wine_param_grid = {\n",
    "    'scalar': [StandardScaler(), MinMaxScaler(), RobustScaler(), Normalizer()]\n",
    "}\n",
    "wine_grid = GridSearchCV(wine_pipeline, param_grid=wine_param_grid, cv=5)\n",
    "wine_grid.fit(X_wine_train, y_wine_train)\n",
    "print(\"Best cv accuracy (wine):\", wine_grid.best_score_ * 100, '%')\n",
    "print(\"Test set score (wine):\", wine_grid.score(X_wine_test, y_wine_test) * 100, '%')\n",
    "print(\"Best parameters (wine):\", wine_grid.best_params_)\n",
    "\n",
    "# Task 3 (zip)\n",
    "zip_mlp = MLPClassifier(random_state=2311, max_iter=10000)\n",
    "zip_accuracy = cross_val_score(zip_mlp, X_zip_train, y_zip_train)\n",
    "print(\"Accuracy (zip):\", zip_accuracy.mean() * 100, \"%\")\n",
    "\n",
    "# Task 4 (zip)\n",
    "zip_mlp.fit(X_zip_train, y_zip_train)\n",
    "y_zip_prediction = zip_mlp.predict(X_zip_test)\n",
    "zip_incorrect = np.sum(y_zip_prediction != y_zip_test)\n",
    "zip_error = zip_incorrect / len(y_zip_test)\n",
    "print(\"Error Rate (zip):\", zip_error * 100, \"%\")\n",
    "\n",
    "# Task 5 (zip)\n",
    "zip_pipeline = Pipeline([\n",
    "    ('scalar', StandardScaler()),\n",
    "    ('mlp', wine_mlp)\n",
    "])\n",
    "\n",
    "# Task 6 (zip)\n",
    "zip_param_grid = {\n",
    "    'scalar': [StandardScaler(), MinMaxScaler(), RobustScaler(), Normalizer()]\n",
    "}\n",
    "zip_grid = GridSearchCV(zip_pipeline, param_grid=zip_param_grid, cv=5)\n",
    "zip_grid.fit(X_zip_train, y_zip_train)\n",
    "print(\"Best cv accuracy (zip):\", zip_grid.best_score_ * 100, '%')\n",
    "print(\"Test set score (zip):\", zip_grid.score(X_zip_test, y_zip_test) * 100, '%')\n",
    "print(\"Best parameters (zip):\", zip_grid.best_params_)"
   ]
  }
 ],
 "metadata": {
  "kernelspec": {
   "display_name": "Python 3 (ipykernel)",
   "language": "python",
   "name": "python3"
  },
  "language_info": {
   "codemirror_mode": {
    "name": "ipython",
    "version": 3
   },
   "file_extension": ".py",
   "mimetype": "text/x-python",
   "name": "python",
   "nbconvert_exporter": "python",
   "pygments_lexer": "ipython3",
   "version": "3.11.5"
  }
 },
 "nbformat": 4,
 "nbformat_minor": 5
}
